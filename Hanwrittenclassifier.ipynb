{
  "cells": [
    {
      "cell_type": "code",
      "execution_count": 1,
      "metadata": {
        "colab": {
          "base_uri": "https://localhost:8080/"
        },
        "id": "tglEHBZLWn8J",
        "outputId": "75a8e7b4-2a1d-4799-efa6-56949cd1a68c"
      },
      "outputs": [
        {
          "name": "stdout",
          "output_type": "stream",
          "text": [
            "Requirement already satisfied: nnfs in c:\\users\\ujjwal\\appdata\\local\\programs\\python\\python310\\lib\\site-packages (0.5.1)\n",
            "Requirement already satisfied: numpy in c:\\users\\ujjwal\\appdata\\local\\programs\\python\\python310\\lib\\site-packages (from nnfs) (1.23.4)\n"
          ]
        },
        {
          "name": "stderr",
          "output_type": "stream",
          "text": [
            "\n",
            "[notice] A new release of pip available: 22.2.1 -> 22.3.1\n",
            "[notice] To update, run: python.exe -m pip install --upgrade pip\n"
          ]
        }
      ],
      "source": [
        "!pip install nnfs"
      ]
    },
    {
      "cell_type": "code",
      "execution_count": 2,
      "metadata": {
        "id": "gOYy2aO6WrCy"
      },
      "outputs": [],
      "source": [
        "import numpy as np   #important for process of vectorisation which allows us to do calculations much faster"
      ]
    },
    {
      "cell_type": "code",
      "execution_count": 8,
      "metadata": {
        "id": "zy5z1BuWBp1M"
      },
      "outputs": [],
      "source": [
        "'''\n",
        "Making object for a single layer\n",
        "'''\n",
        "class layer:\n",
        "  def __init__(self,n_input,n_neurons):    #constructor called with parameter as data type layer\n",
        "    self.weights = np.random.randn(n_input,n_neurons) * 0.01     #create a matrix with entries taken randomly form a normal distribution\n",
        "    self.biases = np.zeros((1,n_neurons))                        #initialzing the biases as zero\n",
        "  \n",
        "  def forward(self,input):\n",
        "    self.output = np.dot(input,self.weights) + self.biases\n",
        "\n",
        "'''\n",
        "Making the ReLU activation function\n",
        "'''\n",
        "class Activation_Relu:\n",
        "  def forward(self,input):\n",
        "    self.output = np.maximum(0,input)\n",
        "\n",
        "'''\n",
        "Making the softmax activation function\n",
        "'''\n",
        "class Activation_Softmax:\n",
        "  def forward(self,input):\n",
        "    exp_values = np.exp(input - np.max(input,axis = 1,keepdims = True))\n",
        "    self.output = exp_values / np.sum(exp_values, axis =1, keepdims = True)\n",
        "  "
      ]
    },
    {
      "cell_type": "code",
      "execution_count": 11,
      "metadata": {
        "colab": {
          "base_uri": "https://localhost:8080/"
        },
        "id": "OFIT3Xj1BKet",
        "outputId": "16949f9f-106d-451f-90cb-250d4322ba67"
      },
      "outputs": [
        {
          "name": "stdout",
          "output_type": "stream",
          "text": [
            "[[0.33333334 0.33333334 0.33333334]\n",
            " [0.33333582 0.33332387 0.33334032]\n",
            " [0.33333334 0.33333334 0.33333334]\n",
            " [0.3333706  0.33328515 0.33334425]\n",
            " [0.33331972 0.3333405  0.33333972]]\n"
          ]
        }
      ],
      "source": [
        "'''\n",
        "TESTING\n",
        "'''\n",
        "import nnfs\n",
        "from nnfs.datasets import spiral_data\n",
        "import numpy as np\n",
        "\n",
        "nnfs.init()\n",
        "\n",
        "X, y = spiral_data(samples=5, classes=3)\n",
        "dense1 = layer(2,3)\n",
        "activation1 = Activation_Relu()\n",
        "dense2 = layer(3,3)\n",
        "activation2 = Activation_Softmax()\n",
        "\n",
        "# Make a forward pass of our training data through this layer\n",
        "dense1.forward(X)\n",
        "# Make a forward pass through activation function\n",
        "# it takes the output of first dense layer here\n",
        "activation1.forward(dense1.output)\n",
        "# Make a forward pass through second Dense layer\n",
        "# it takes outputs of activation function of first layer as inputs\n",
        "dense2.forward(activation1.output)\n",
        "# Make a forward pass through activation function\n",
        "# it takes the output of second dense layer here\n",
        "activation2.forward(dense2.output)\n",
        "\n",
        "print(activation2.output[:5])\n"
      ]
    },
    {
      "cell_type": "code",
      "execution_count": null,
      "metadata": {
        "id": "p_Hrjf5-WYq3"
      },
      "outputs": [],
      "source": []
    }
  ],
  "metadata": {
    "colab": {
      "provenance": []
    },
    "kernelspec": {
      "display_name": "Python 3.10.6 64-bit",
      "language": "python",
      "name": "python3"
    },
    "language_info": {
      "codemirror_mode": {
        "name": "ipython",
        "version": 3
      },
      "file_extension": ".py",
      "mimetype": "text/x-python",
      "name": "python",
      "nbconvert_exporter": "python",
      "pygments_lexer": "ipython3",
      "version": "3.10.6"
    },
    "vscode": {
      "interpreter": {
        "hash": "b6fae8e20247ccfeab698d47ab548faf2c3464c235d66cd81eacce5375a2494f"
      }
    }
  },
  "nbformat": 4,
  "nbformat_minor": 0
}
